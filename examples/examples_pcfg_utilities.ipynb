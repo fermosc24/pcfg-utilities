{
 "cells": [
  {
   "cell_type": "markdown",
   "id": "ea2e9cc2",
   "metadata": {},
   "source": [
    "# PCFG Utilities: Example Usage\n",
    "This notebook demonstrates the core features of the `pcfg_utilities` package."
   ]
  },
  {
   "cell_type": "code",
   "execution_count": null,
   "id": "f1caacdf",
   "metadata": {},
   "outputs": [],
   "source": [
    "from pcfg_utilities.pcfg_utilities import characteristic_matrix, SITE, derivational_entropy, mean_length, sample_n_trees\n",
    "from nltk.grammar import PCFG\n",
    "\n",
    "grammar = PCFG.fromstring(\"\"\"\n",
    "   S -> NP VP [1.0]\n",
    "   NP -> 'John' [0.5] | 'Mary' [0.5]\n",
    "   VP -> V NP [1.0]\n",
    "   V -> 'sees' [1.0]\n",
    "\"\"\")\n",
    "\n",
    "# Characteristic matrix\n",
    "M, nts = characteristic_matrix(grammar)\n",
    "print('Characteristic Matrix:')\n",
    "print(M)\n",
    "print('Nonterminals:', nts)\n"
   ]
  },
  {
   "cell_type": "code",
   "execution_count": null,
   "id": "54bcad63",
   "metadata": {},
   "outputs": [],
   "source": [
    "# Derivational entropy\n",
    "entropy = derivational_entropy(grammar)\n",
    "print('Derivational Entropy:')\n",
    "for nt, value in entropy.items():\n",
    "    print(f\"{nt}: {value:.3f}\")"
   ]
  },
  {
   "cell_type": "code",
   "execution_count": null,
   "id": "c7f998e8",
   "metadata": {},
   "outputs": [],
   "source": [
    "# Mean terminal yield length\n",
    "lengths = mean_length(grammar)\n",
    "print('Mean Terminal Yield Length:')\n",
    "for nt, value in lengths.items():\n",
    "    print(f\"{nt}: {value:.3f}\")"
   ]
  },
  {
   "cell_type": "code",
   "execution_count": null,
   "id": "4026c1bc",
   "metadata": {},
   "outputs": [],
   "source": [
    "# SITE (Smoothed Induced Treebank Entropy) from sampled trees\n",
    "trees = sample_n_trees(grammar, 100)\n",
    "site = SITE(trees, method='MLE')\n",
    "print('SITE:')\n",
    "for nt, value in site.items():\n",
    "    print(f\"{nt}: {value:.3f}\")"
   ]
  }
 ],
 "metadata": {},
 "nbformat": 4,
 "nbformat_minor": 5
}
